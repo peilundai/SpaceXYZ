{
 "cells": [
  {
   "cell_type": "code",
   "execution_count": 1,
   "metadata": {},
   "outputs": [
    {
     "name": "stderr",
     "output_type": "stream",
     "text": [
      "Using TensorFlow backend.\n"
     ]
    },
    {
     "data": {
      "text/plain": [
       "['/job:localhost/replica:0/task:0/device:GPU:0',\n",
       " '/job:localhost/replica:0/task:0/device:GPU:1']"
      ]
     },
     "execution_count": 1,
     "metadata": {},
     "output_type": "execute_result"
    }
   ],
   "source": [
    "from os import listdir\n",
    "from os.path import isfile, join\n",
    "\n",
    "import numpy as np\n",
    "import cv2\n",
    "import matplotlib.pyplot as plt\n",
    "import h5py\n",
    "\n",
    "from segmentation_models import PSPNet\n",
    "from segmentation_models import FPN\n",
    "from segmentation_models import Unet\n",
    "from segmentation_models.segmentation_models.backbones import get_preprocessing\n",
    "\n",
    "from keras import backend as K\n",
    "import keras\n",
    "\n",
    "import spacexyz\n",
    "%load_ext autoreload\n",
    "%autoreload 2\n",
    "\n",
    "K.tensorflow_backend._get_available_gpus()"
   ]
  },
  {
   "cell_type": "markdown",
   "metadata": {},
   "source": [
    "## Set Parameters"
   ]
  },
  {
   "cell_type": "code",
   "execution_count": null,
   "metadata": {},
   "outputs": [],
   "source": [
    "have_gt = False\n",
    "path_to_data = '/scratch2/peilun/SpaceXYZ/PngData/eko_plans'\n",
    "\n",
    "if have_gt:\n",
    "    path_to_label = '/scratch2/peilun/val_types/labels'\n",
    "\n",
    "path_to_model = '/scratch2/peilun/SpaceXYZ/Unet_epoch_100.h5'\n",
    "\n",
    "num_classes = 1+7\n",
    "\n",
    "input_size = (512, 512, 3)\n"
   ]
  },
  {
   "cell_type": "markdown",
   "metadata": {},
   "source": [
    "## Load data and model"
   ]
  },
  {
   "cell_type": "code",
   "execution_count": 1,
   "metadata": {},
   "outputs": [
    {
     "ename": "NameError",
     "evalue": "name 'spacexyz' is not defined",
     "output_type": "error",
     "traceback": [
      "\u001b[0;31m---------------------------------------------------------------------------\u001b[0m",
      "\u001b[0;31mNameError\u001b[0m                                 Traceback (most recent call last)",
      "\u001b[0;32m<ipython-input-1-759483d51351>\u001b[0m in \u001b[0;36m<module>\u001b[0;34m\u001b[0m\n\u001b[1;32m      3\u001b[0m \u001b[0;31m####################################################\u001b[0m\u001b[0;34m\u001b[0m\u001b[0;34m\u001b[0m\u001b[0m\n\u001b[1;32m      4\u001b[0m \u001b[0;34m\u001b[0m\u001b[0m\n\u001b[0;32m----> 5\u001b[0;31m \u001b[0mdata_files\u001b[0m \u001b[0;34m=\u001b[0m \u001b[0mspacexyz\u001b[0m\u001b[0;34m.\u001b[0m\u001b[0mpath2filelist\u001b[0m\u001b[0;34m(\u001b[0m\u001b[0mpath_to_data\u001b[0m\u001b[0;34m)\u001b[0m\u001b[0;34m\u001b[0m\u001b[0m\n\u001b[0m\u001b[1;32m      6\u001b[0m \u001b[0mn_samples\u001b[0m \u001b[0;34m=\u001b[0m \u001b[0mlen\u001b[0m\u001b[0;34m(\u001b[0m\u001b[0mdata_files\u001b[0m\u001b[0;34m)\u001b[0m\u001b[0;34m\u001b[0m\u001b[0m\n\u001b[1;32m      7\u001b[0m \u001b[0;34m\u001b[0m\u001b[0m\n",
      "\u001b[0;31mNameError\u001b[0m: name 'spacexyz' is not defined"
     ]
    }
   ],
   "source": [
    "####################################################\n",
    "############# Read in files ########################\n",
    "####################################################\n",
    "\n",
    "data_files = spacexyz.path2filelist(path_to_data)\n",
    "n_samples = len(data_files)\n",
    "\n",
    "print('Num of images: ', n_samples)\n",
    "\n",
    "print(\"reading in \", n_samples, \" samples...\")\n",
    "X_ = np.zeros([n_samples, *input_size]).astype(np.uint8)\n",
    "remember_size = np.zeros([n_samples, 2])\n",
    "for i in range(n_samples):\n",
    "    print(i, end='. ')\n",
    "    t_image = cv2.imread(join(path_to_data, data_files[i]))\n",
    "    remember_size[i, :] = t_image.shape[:2]\n",
    "    X_[i,:,:,:] = cv2.resize(t_image, input_size[:2])\n",
    "    if have_gt:\n",
    "        t_label = cv2.imread(join(train_label_path, train_labels[i]))\n",
    "        y_train[i,:,:] = cv2.resize(t_label[:,:,0], output_size[:2], interpolation=cv2.INTER_NEAREST)\n",
    "\n",
    "# y_train = keras.utils.to_categorical(y_train, num_classes=7, dtype='float32')\n",
    "remember_size = remember_size.astype(np.int64)\n",
    "assert(remember_size.shape[0] == n_samples)\n",
    "\n",
    "####################################################\n",
    "############# Load model ###########################\n",
    "####################################################\n",
    "\n",
    "print(\"Loading training model...\")\n",
    "model = keras.models.load_model(path_to_model)\n"
   ]
  },
  {
   "cell_type": "markdown",
   "metadata": {},
   "source": [
    "## Inference"
   ]
  },
  {
   "cell_type": "code",
   "execution_count": null,
   "metadata": {},
   "outputs": [],
   "source": [
    "####################################################\n",
    "############# Perform inference ####################\n",
    "####################################################\n",
    "print(\"Performing inference...\")\n",
    "pred = model.predict(X_, batch_size=None, verbose=1, steps=None)\n",
    "\n",
    "####################################################\n",
    "############# Resize to original ###################\n",
    "####################################################\n",
    "\n",
    "\n",
    "####################################################\n",
    "############# Save segmentation results ############\n",
    "####################################################\n",
    "\n",
    "pred_labels = []\n",
    "for i in range(ind.shape[0]):\n",
    "#     ind_original_size =  cv2.resize(ind[i,:,:], tuple(remember_size[i,:2]), interpolation=cv2.INTER_LINEAR)\n",
    "    ind_original_size =  cv2.resize(ind[i,:,:], tuple(remember_size[i,:2]))\n",
    "    pred_labels.append(ind_original_size)\n",
    "    \n",
    "# todo\n",
    "h5f = h5py.File('oxygen_plans_new.h5', 'w')\n",
    "h5f.create_dataset('oxygen_plans', data=pred)\n",
    "h5f.close()\n",
    "\n",
    "# read in results\n",
    "h5f = h5py.File('oxygen_plans.h5','r')\n",
    "b = h5f['oxygen_plans'][:]"
   ]
  },
  {
   "cell_type": "markdown",
   "metadata": {},
   "source": [
    "## Visualize"
   ]
  },
  {
   "cell_type": "code",
   "execution_count": 9,
   "metadata": {},
   "outputs": [
    {
     "name": "stdout",
     "output_type": "stream",
     "text": [
      "(49, 512, 512)\n"
     ]
    },
    {
     "data": {
      "text/plain": [
       "True"
      ]
     },
     "execution_count": 9,
     "metadata": {},
     "output_type": "execute_result"
    },
    {
     "data": {
      "image/png": "[encoded data removed]",
      "text/plain": [
       "<matplotlib.figure.Figure at 0x7f57052dde48>"
      ]
     },
     "metadata": {
      "needs_background": "light"
     },
     "output_type": "display_data"
    }
   ],
   "source": [
    "# import imgaug as ia\n",
    "# from imgaug import augmenters as iaa\n",
    "\n",
    "# ind = spacexyz.onehot2ind(pred)\n",
    "# print(ind.shape)\n",
    "\n",
    "# k = 14\n",
    "# label = ind[k,:,:]\n",
    "# segmap = label.astype(np.int32)\n",
    "# segmap = ia.SegmentationMapOnImage(segmap, shape=(512, 512), nb_classes=num_classes)\n",
    "# plt.imshow(segmap.draw_on_image(X_[k,:,:,:]))\n",
    "# cv2.imwrite('messigray.png',segmap.draw_on_image(X_[k,:,:,:]))"
   ]
  },
  {
   "cell_type": "code",
   "execution_count": 10,
   "metadata": {},
   "outputs": [
    {
     "data": {
      "image/png": "[encoded data removed]",
      "text/plain": [
       "<matplotlib.figure.Figure at 0x7f58d0d5a7f0>"
      ]
     },
     "metadata": {
      "needs_background": "light"
     },
     "output_type": "display_data"
    }
   ],
   "source": [
    "# plt.imshow(pred[0,:,:,1])\n",
    "# plt.imsave('wall.png', pred[0,:,:,1])"
   ]
  },
  {
   "cell_type": "code",
   "execution_count": null,
   "metadata": {},
   "outputs": [],
   "source": [
    "k=83\n",
    "label = pred_labels[k]\n",
    "segmap = label.astype(np.int32)\n",
    "segmap = ia.SegmentationMapOnImage(segmap, shape=(512, 512), nb_classes=1+6)\n",
    "# plt.imshow(segmap.draw_on_image(X_[k,:,:,:]))\n",
    "plt.imshow(segmap.draw_on_image(t_image))\n",
    "cv2.imwrite('messigray.png',segmap.draw_on_image(X_[k,:,:,:]))"
   ]
  }
 ],
 "metadata": {
  "kernelspec": {
   "display_name": "Python [conda env:tensorflow_py36]",
   "language": "python",
   "name": "conda-env-tensorflow_py36-py"
  },
  "language_info": {
   "codemirror_mode": {
    "name": "ipython",
    "version": 3
   },
   "file_extension": ".py",
   "mimetype": "text/x-python",
   "name": "python",
   "nbconvert_exporter": "python",
   "pygments_lexer": "ipython3",
   "version": "3.6.0"
  }
 },
 "nbformat": 4,
 "nbformat_minor": 2
}
