{
 "cells": [
  {
   "cell_type": "code",
   "execution_count": 12,
   "metadata": {},
   "outputs": [],
   "source": [
    "import tensorflow\n",
    "import imgaug as ia\n",
    "from imgaug import augmenters as iaa\n",
    "import imageio\n",
    "import numpy as np\n",
    "import skimage\n",
    "import cv2\n",
    "# import PIL\n",
    "from PIL import Image\n",
    "from matplotlib import pyplot as plt\n",
    "from os import listdir\n",
    "from os.path import isfile, join"
   ]
  },
  {
   "cell_type": "code",
   "execution_count": 10,
   "metadata": {},
   "outputs": [],
   "source": [
    "images_path = \"./val_images/\"\n",
    "labels_path = \"./val_labels/\"\n",
    "# image_out_path = images_path + \"_augmented/\"\n",
    "# label_out_path = labels_path + \"_augmented/\"\n",
    "image_files = [f for f in listdir(images_path) if isfile(join(images_path, f))]\n",
    "label_files = [f for f in listdir(labels_path) if isfile(join(labels_path, f))]"
   ]
  },
  {
   "cell_type": "code",
   "execution_count": 11,
   "metadata": {},
   "outputs": [
    {
     "name": "stdout",
     "output_type": "stream",
     "text": [
      "20\n"
     ]
    }
   ],
   "source": [
    "if '.DS_Store' in image_files:\n",
    "    image_files.remove('.DS_Store')\n",
    "if '.DS_Store' in label_files:\n",
    "    label_files.remove('.DS_Store')\n",
    "image_files.sort()\n",
    "label_files.sort()\n",
    "n_items = len(label_files)\n",
    "print(n_items)"
   ]
  },
  {
   "cell_type": "code",
   "execution_count": 11,
   "metadata": {},
   "outputs": [
    {
     "name": "stdout",
     "output_type": "stream",
     "text": [
      "Processing image  0 :  1.jpg\n"
     ]
    }
   ],
   "source": [
    "# for i in range(n_items):\n",
    "for i in range(1):\n",
    "    print(\"Processing image \", i, \": \", image_files[i])\n",
    "    image = cv2.imread(join(images_path, image_files[i]))\n",
    "    label = cv2.imread(join(labels_path, label_files[i]))\n",
    "    \n",
    "    # process \n",
    "    segmap = label.astype(np.int32)\n",
    "    segmap = segmap[:,:,0]\n",
    "    segmap = ia.SegmentationMapOnImage(segmap, shape=image.shape, nb_classes=1+6)\n",
    "    \n",
    "    # transformation types\n",
    "    seq = iaa.Sequential([\n",
    "    iaa.Fliplr(0.5),      \n",
    "    iaa.Crop(percent=(0, 0.1)),       \n",
    "    iaa.Affine(rotate=[90, 180], scale=(0.75, 1.25)),], random_order=True)\n",
    "    \n",
    "    images_aug = []\n",
    "    segmaps_aug = []\n",
    "    for _ in range(10):\n",
    "#         seq_det = seq.to_deterministic()\n",
    "        seq_det = seq\n",
    "        img = seq_det.augment_image(image)\n",
    "        img[img==0] = 255 \n",
    "        images_aug.append(img)\n",
    "        segmaps_aug.append(seq_det.augment_segmentation_maps([segmap])[0])\n",
    "        \n",
    "        \n",
    "        \n",
    "        \n",
    "\n",
    "        cells = []\n",
    "        for image_aug, segmap_aug in zip(images_aug, segmaps_aug):\n",
    "            cells.append(image)                                      # column 1\n",
    "            cells.append(segmap.draw_on_image(image))                # column 2\n",
    "            cells.append(image_aug)                                  # column 3\n",
    "            cells.append(segmap_aug.draw_on_image(image_aug))        # column 4\n",
    "            cells.append(segmap_aug.draw(size=image_aug.shape[:2]))  # column 5\n",
    "\n",
    "        # Convert cells to grid image and save.\n",
    "        grid_image = ia.draw_grid(cells, cols=5)\n",
    "        imageio.imwrite(\"example_segmaps.jpg\", grid_image)\n",
    "\n"
   ]
  },
  {
   "cell_type": "code",
   "execution_count": 44,
   "metadata": {},
   "outputs": [
    {
     "name": "stdout",
     "output_type": "stream",
     "text": [
      "Processing image  0 :  1.jpg\n",
      "  Transformation  0\n",
      "  Transformation  1\n",
      "  Transformation  2\n",
      "  Transformation  3\n",
      "  Transformation  4\n",
      "  Transformation  5\n",
      "  Transformation  6\n",
      "  Transformation  7\n",
      "  Transformation  8\n",
      "  Transformation  9\n"
     ]
    }
   ],
   "source": [
    "# for i in range(n_items):\n",
    "for i in range(1):\n",
    "    print(\"Processing image \", i, \": \", image_files[i])\n",
    "    image = cv2.imread(join(images_path, image_files[i]))\n",
    "    label = cv2.imread(join(labels_path, label_files[i]))\n",
    "    segmap = label.astype(np.int32)\n",
    "    segmap = segmap[:,:,0]\n",
    "    segmap = ia.SegmentationMapOnImage(segmap, shape=image.shape, nb_classes=1+6)\n",
    "    \n",
    "    # transformation types\n",
    "    seq = iaa.Sequential([\n",
    "    iaa.Fliplr(0.5), \n",
    "    iaa.Flipud(0.5),      \n",
    "    iaa.Affine(rotate=[90, 180, 270], \n",
    "               scale={\"x\": (0.75, 1.25), \"y\": (0.75, 1.25)}, \n",
    "               translate_percent={\"x\": (-0.2, 0.2), \"y\": (-0.2, 0.2)}, mode='constant', cval=0)], random_order=True)\n",
    "    \n",
    "    images_aug = []\n",
    "    segmaps_aug = []\n",
    "    for j in range(10):\n",
    "        print(\"  Transformation \", j)\n",
    "        seq_det = seq.to_deterministic()\n",
    "        img = seq_det.augment_image(image)\n",
    "#         img[img==0] = 255 \n",
    "        images_aug.append(img)\n",
    "        segmaps_aug.append(seq_det.augment_segmentation_maps([segmap])[0])\n",
    "        \n",
    "        image_out = image_out_path + image_files[i][:-4] + '_' + str(j) + '.jpg'\n",
    "        label_out = label_out_path + image_files[i][:-4] + '_' + str(j) + '.png'\n",
    "        \n",
    "        # save outputs\n",
    "        im = Image.fromarray(img.astype(np.uint8))\n",
    "        im.save(image_out)\n",
    "        seg_out = seq_det.augment_segmentation_maps([segmap])[0].get_arr_int()\n",
    "#         seg_out = seq_det.augment_segmentation_maps([segmap])[0].draw_on_image(img)\n",
    "        sg = Image.fromarray(seg_out.astype(np.uint8))\n",
    "        sg.save(label_out)\n"
   ]
  },
  {
   "cell_type": "code",
   "execution_count": null,
   "metadata": {},
   "outputs": [],
   "source": []
  }
 ],
 "metadata": {
  "kernelspec": {
   "display_name": "Python [conda env:tensorflow]",
   "language": "python",
   "name": "conda-env-tensorflow-py"
  },
  "language_info": {
   "codemirror_mode": {
    "name": "ipython",
    "version": 3
   },
   "file_extension": ".py",
   "mimetype": "text/x-python",
   "name": "python",
   "nbconvert_exporter": "python",
   "pygments_lexer": "ipython3",
   "version": "3.5.6"
  }
 },
 "nbformat": 4,
 "nbformat_minor": 2
}
